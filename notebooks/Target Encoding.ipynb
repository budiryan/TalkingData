{
 "cells": [
  {
   "cell_type": "code",
   "execution_count": 1,
   "metadata": {
    "collapsed": true
   },
   "outputs": [],
   "source": [
    "import pandas as pd\n",
    "import numpy as np\n",
    "import gc"
   ]
  },
  {
   "cell_type": "code",
   "execution_count": 2,
   "metadata": {
    "collapsed": true
   },
   "outputs": [],
   "source": [
    "inpath = 'data/'"
   ]
  },
  {
   "cell_type": "code",
   "execution_count": 3,
   "metadata": {
    "collapsed": false
   },
   "outputs": [],
   "source": [
    "train_df = pd.read_csv(inpath + \"train.csv\", \n",
    "                       parse_dates=['click_time'], \n",
    "                       skiprows=range(1,184903890 - 2000000), \n",
    "                       nrows=2000000, \n",
    "                       usecols=['ip','app','device','os', 'channel', \n",
    "                                'click_time', 'is_attributed'])"
   ]
  },
  {
   "cell_type": "code",
   "execution_count": 4,
   "metadata": {
    "collapsed": false
   },
   "outputs": [],
   "source": [
    "test_df = pd.read_csv(inpath + \"test.csv\", \n",
    "                       parse_dates=['click_time'],\n",
    "                       nrows=1000000,\n",
    "                       usecols=['ip','app','device','os', 'channel',\n",
    "                                'click_id','click_time'])"
   ]
  },
  {
   "cell_type": "code",
   "execution_count": 5,
   "metadata": {
    "collapsed": false
   },
   "outputs": [],
   "source": [
    "train_df['click_id'] = 255\n",
    "train_df['click_id'] = train_df.click_id.astype('uint8')\n",
    "test_df['is_attributed'] = 255\n",
    "test_df['is_attributed'] = test_df.is_attributed.astype('uint8')"
   ]
  },
  {
   "cell_type": "code",
   "execution_count": 6,
   "metadata": {
    "collapsed": false
   },
   "outputs": [
    {
     "data": {
      "text/plain": [
       "14"
      ]
     },
     "execution_count": 6,
     "metadata": {},
     "output_type": "execute_result"
    }
   ],
   "source": [
    "train_df = train_df.append(test_df)\n",
    "del test_df; gc.collect()"
   ]
  },
  {
   "cell_type": "code",
   "execution_count": 7,
   "metadata": {
    "collapsed": true
   },
   "outputs": [],
   "source": [
    "train_df['epoch'] = train_df.click_time.astype(np.int64) // 10 ** 9"
   ]
  },
  {
   "cell_type": "code",
   "execution_count": 8,
   "metadata": {
    "collapsed": false
   },
   "outputs": [
    {
     "data": {
      "text/plain": [
       "(3000000, 9)"
      ]
     },
     "execution_count": 8,
     "metadata": {},
     "output_type": "execute_result"
    }
   ],
   "source": [
    "train_df.shape"
   ]
  },
  {
   "cell_type": "code",
   "execution_count": 11,
   "metadata": {
    "collapsed": false
   },
   "outputs": [
    {
     "data": {
      "text/plain": [
       "Index(['app', 'channel', 'click_id', 'click_time', 'device', 'ip',\n",
       "       'is_attributed', 'os', 'epoch'],\n",
       "      dtype='object')"
      ]
     },
     "execution_count": 11,
     "metadata": {},
     "output_type": "execute_result"
    }
   ],
   "source": [
    "train_df.columns"
   ]
  },
  {
   "cell_type": "code",
   "execution_count": 21,
   "metadata": {
    "collapsed": false
   },
   "outputs": [
    {
     "data": {
      "text/plain": [
       "409"
      ]
     },
     "execution_count": 21,
     "metadata": {},
     "output_type": "execute_result"
    }
   ],
   "source": [
    "train_df = train_df.reset_index()\n",
    "train_df['timeblock'] = train_df['epoch'] - train_df['epoch'][0]\n",
    "train_df['timeblock'] = train_df['timeblock'].map(lambda x: int(x / 60))\n",
    "gc.collect()"
   ]
  },
  {
   "cell_type": "code",
   "execution_count": 25,
   "metadata": {
    "collapsed": false
   },
   "outputs": [
    {
     "data": {
      "text/plain": [
       "level_0                      2000000\n",
       "index                              0\n",
       "app                                9\n",
       "channel                          107\n",
       "click_id                           0\n",
       "click_time       2017-11-10 04:00:00\n",
       "device                             1\n",
       "ip                              5744\n",
       "is_attributed                    255\n",
       "os                                 3\n",
       "epoch                     1510286400\n",
       "timeblock                        761\n",
       "Name: 2000000, dtype: object"
      ]
     },
     "execution_count": 25,
     "metadata": {},
     "output_type": "execute_result"
    }
   ],
   "source": [
    "train_df.iloc[2000000]"
   ]
  },
  {
   "cell_type": "code",
   "execution_count": 26,
   "metadata": {
    "collapsed": false
   },
   "outputs": [
    {
     "data": {
      "text/plain": [
       "level_0                      1999999\n",
       "index                        1999999\n",
       "app                               12\n",
       "channel                          259\n",
       "click_id                         255\n",
       "click_time       2017-11-09 16:00:00\n",
       "device                             1\n",
       "ip                            189286\n",
       "is_attributed                      0\n",
       "os                                37\n",
       "epoch                     1510243200\n",
       "timeblock                         41\n",
       "Name: 1999999, dtype: object"
      ]
     },
     "execution_count": 26,
     "metadata": {},
     "output_type": "execute_result"
    }
   ],
   "source": [
    "train_df.iloc[2000000 - 1]"
   ]
  },
  {
   "cell_type": "code",
   "execution_count": null,
   "metadata": {
    "collapsed": true
   },
   "outputs": [],
   "source": []
  }
 ],
 "metadata": {
  "kernelspec": {
   "display_name": "Python 3",
   "language": "python",
   "name": "python3"
  },
  "language_info": {
   "codemirror_mode": {
    "name": "ipython",
    "version": 3
   },
   "file_extension": ".py",
   "mimetype": "text/x-python",
   "name": "python",
   "nbconvert_exporter": "python",
   "pygments_lexer": "ipython3",
   "version": "3.5.4"
  }
 },
 "nbformat": 4,
 "nbformat_minor": 0
}
